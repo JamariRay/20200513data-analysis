{
 "cells": [
  {
   "cell_type": "markdown",
   "metadata": {},
   "source": [
    "分析指标:\n",
    "日PV 日UV分析\n",
    "付费率分析\n",
    "复购行为分析\n",
    "漏斗流失率分析\n",
    "用户价值RFM分析"
   ]
  },
  {
   "cell_type": "markdown",
   "metadata": {},
   "source": [
    "用户行为分析过程：\n",
    "\n",
    "说明\n",
    "一、数据集与分析目的\n",
    "1、数据集\n",
    "2、分析目的\n",
    "\n",
    "二、数据处理\n",
    "1、数据预览\n",
    "2、数据处理\n",
    "\n",
    "三、数据提取与分析\n",
    "1、网站流量分析\n",
    "2、用户分析\n",
    "3、商品销售分析\n",
    "\n",
    "四、总结\n",
    "1、关于平台流量与转化率：\n",
    "2、关于网站用户粘性以及用户消费习惯\n",
    "3、关于商品销售情况"
   ]
  },
  {
   "cell_type": "markdown",
   "metadata": {},
   "source": [
    "说明\n",
    "本次数据分析基于阿里云天池数据集（用户行为数据集），使用转化漏斗，AARRR模型，对常见电商分析指标，包括转化率，PV,UV,留存率，复购率等进行分析，分析过程中使用python进行数据清洗及可视化。"
   ]
  },
  {
   "cell_type": "markdown",
   "metadata": {},
   "source": [
    "###  二、理解数据"
   ]
  },
  {
   "cell_type": "code",
   "execution_count": 3,
   "metadata": {},
   "outputs": [],
   "source": [
    "import numpy as np\n",
    "import pandas as pd\n",
    "import matplotlib.pyplot as plt\n",
    "import seaborn as sns\n",
    "sns.set(style='darkgrid',font_scale=1.5)\n",
    "plt.rcParams['font.sans-serif'] = ['SimHei']\n",
    "plt.rcParams['axes.unicode_minus'] = False\n"
   ]
  },
  {
   "cell_type": "code",
   "execution_count": 158,
   "metadata": {},
   "outputs": [
    {
     "data": {
      "text/html": [
       "<div>\n",
       "<style scoped>\n",
       "    .dataframe tbody tr th:only-of-type {\n",
       "        vertical-align: middle;\n",
       "    }\n",
       "\n",
       "    .dataframe tbody tr th {\n",
       "        vertical-align: top;\n",
       "    }\n",
       "\n",
       "    .dataframe thead th {\n",
       "        text-align: right;\n",
       "    }\n",
       "</style>\n",
       "<table border=\"1\" class=\"dataframe\">\n",
       "  <thead>\n",
       "    <tr style=\"text-align: right;\">\n",
       "      <th></th>\n",
       "      <th>user_id</th>\n",
       "      <th>item_id</th>\n",
       "      <th>behavior_type</th>\n",
       "      <th>user_geohash</th>\n",
       "      <th>item_category</th>\n",
       "      <th>time</th>\n",
       "    </tr>\n",
       "  </thead>\n",
       "  <tbody>\n",
       "    <tr>\n",
       "      <td>0</td>\n",
       "      <td>98047837</td>\n",
       "      <td>232431562</td>\n",
       "      <td>1</td>\n",
       "      <td>NaN</td>\n",
       "      <td>4245</td>\n",
       "      <td>2014-12-06 02</td>\n",
       "    </tr>\n",
       "    <tr>\n",
       "      <td>1</td>\n",
       "      <td>97726136</td>\n",
       "      <td>383583590</td>\n",
       "      <td>1</td>\n",
       "      <td>NaN</td>\n",
       "      <td>5894</td>\n",
       "      <td>2014-12-09 20</td>\n",
       "    </tr>\n",
       "    <tr>\n",
       "      <td>2</td>\n",
       "      <td>98607707</td>\n",
       "      <td>64749712</td>\n",
       "      <td>1</td>\n",
       "      <td>NaN</td>\n",
       "      <td>2883</td>\n",
       "      <td>2014-12-18 11</td>\n",
       "    </tr>\n",
       "    <tr>\n",
       "      <td>3</td>\n",
       "      <td>98662432</td>\n",
       "      <td>320593836</td>\n",
       "      <td>1</td>\n",
       "      <td>96nn52n</td>\n",
       "      <td>6562</td>\n",
       "      <td>2014-12-06 10</td>\n",
       "    </tr>\n",
       "    <tr>\n",
       "      <td>4</td>\n",
       "      <td>98145908</td>\n",
       "      <td>290208520</td>\n",
       "      <td>1</td>\n",
       "      <td>NaN</td>\n",
       "      <td>13926</td>\n",
       "      <td>2014-12-16 21</td>\n",
       "    </tr>\n",
       "  </tbody>\n",
       "</table>\n",
       "</div>"
      ],
      "text/plain": [
       "    user_id    item_id behavior_type user_geohash item_category           time\n",
       "0  98047837  232431562             1          NaN          4245  2014-12-06 02\n",
       "1  97726136  383583590             1          NaN          5894  2014-12-09 20\n",
       "2  98607707   64749712             1          NaN          2883  2014-12-18 11\n",
       "3  98662432  320593836             1      96nn52n          6562  2014-12-06 10\n",
       "4  98145908  290208520             1          NaN         13926  2014-12-16 21"
      ]
     },
     "execution_count": 158,
     "metadata": {},
     "output_type": "execute_result"
    }
   ],
   "source": [
    "data_user = pd.read_csv('tianchi_mobile_recommend_train_user.csv',dtype=str)\n",
    "data_user.head()"
   ]
  },
  {
   "cell_type": "code",
   "execution_count": 9,
   "metadata": {},
   "outputs": [
    {
     "name": "stdout",
     "output_type": "stream",
     "text": [
      "<class 'pandas.core.frame.DataFrame'>\n",
      "RangeIndex: 802757 entries, 0 to 802756\n",
      "Data columns (total 6 columns):\n",
      "user_id          802757 non-null object\n",
      "item_id          802757 non-null object\n",
      "behavior_type    802757 non-null object\n",
      "user_geohash     252627 non-null object\n",
      "item_category    802757 non-null object\n",
      "time             802756 non-null object\n",
      "dtypes: object(6)\n",
      "memory usage: 36.7+ MB\n"
     ]
    }
   ],
   "source": [
    "data_user.info()"
   ]
  },
  {
   "cell_type": "code",
   "execution_count": null,
   "metadata": {},
   "outputs": [],
   "source": [
    "# 若数据量太大可以抽样\n",
    "# data_user = data_user.sample(frac=0.2,replace=False)"
   ]
  },
  {
   "cell_type": "markdown",
   "metadata": {},
   "source": [
    "user_id          用户ID\n",
    "item_id          商品ID\n",
    "behavior_type    字符串，枚举类型，包括(‘pv’, ‘buy’, ‘cart’, ‘fav’)\n",
    "user_geohash     地理位置\n",
    "item_category    序列化后的商品所属类目ID\n",
    "time             行为发生的时间戳"
   ]
  },
  {
   "cell_type": "markdown",
   "metadata": {},
   "source": [
    "### 三、数据预处理"
   ]
  },
  {
   "cell_type": "markdown",
   "metadata": {},
   "source": [
    "3.1 统计缺失值"
   ]
  },
  {
   "cell_type": "code",
   "execution_count": 10,
   "metadata": {},
   "outputs": [
    {
     "data": {
      "text/plain": [
       "user_id          0.000000\n",
       "item_id          0.000000\n",
       "behavior_type    0.000000\n",
       "user_geohash     0.685301\n",
       "item_category    0.000000\n",
       "time             0.000001\n",
       "dtype: float64"
      ]
     },
     "execution_count": 10,
     "metadata": {},
     "output_type": "execute_result"
    }
   ],
   "source": [
    "data_user.apply(lambda x: sum(x.isnull())/len(x),axis=0)"
   ]
  },
  {
   "cell_type": "code",
   "execution_count": 11,
   "metadata": {},
   "outputs": [
    {
     "data": {
      "text/plain": [
       "user_id               0\n",
       "item_id               0\n",
       "behavior_type         0\n",
       "user_geohash     550130\n",
       "item_category         0\n",
       "time                  1\n",
       "dtype: int64"
      ]
     },
     "execution_count": 11,
     "metadata": {},
     "output_type": "execute_result"
    }
   ],
   "source": [
    "data_user.apply(lambda x: sum(x.isnull()))"
   ]
  },
  {
   "cell_type": "markdown",
   "metadata": {},
   "source": [
    "发现缺失值大部分是地理信息，暂时不用理会,并将时间类型的一个缺失值删除"
   ]
  },
  {
   "cell_type": "code",
   "execution_count": 160,
   "metadata": {},
   "outputs": [],
   "source": [
    "data_user.dropna(subset=['time'],how='any',inplace=True)"
   ]
  },
  {
   "cell_type": "markdown",
   "metadata": {},
   "source": [
    "3.2日期格式处理"
   ]
  },
  {
   "cell_type": "code",
   "execution_count": 161,
   "metadata": {},
   "outputs": [],
   "source": [
    "data_user['date'] = data_user['time'].str[0:10]\n",
    "data_user['hour'] = data_user['time'].str[11:]"
   ]
  },
  {
   "cell_type": "code",
   "execution_count": 31,
   "metadata": {},
   "outputs": [
    {
     "data": {
      "text/html": [
       "<div>\n",
       "<style scoped>\n",
       "    .dataframe tbody tr th:only-of-type {\n",
       "        vertical-align: middle;\n",
       "    }\n",
       "\n",
       "    .dataframe tbody tr th {\n",
       "        vertical-align: top;\n",
       "    }\n",
       "\n",
       "    .dataframe thead th {\n",
       "        text-align: right;\n",
       "    }\n",
       "</style>\n",
       "<table border=\"1\" class=\"dataframe\">\n",
       "  <thead>\n",
       "    <tr style=\"text-align: right;\">\n",
       "      <th></th>\n",
       "      <th>user_id</th>\n",
       "      <th>item_id</th>\n",
       "      <th>behavior_type</th>\n",
       "      <th>user_geohash</th>\n",
       "      <th>item_category</th>\n",
       "      <th>time</th>\n",
       "      <th>date</th>\n",
       "      <th>hour</th>\n",
       "    </tr>\n",
       "  </thead>\n",
       "  <tbody>\n",
       "    <tr>\n",
       "      <td>0</td>\n",
       "      <td>98047837</td>\n",
       "      <td>232431562</td>\n",
       "      <td>1</td>\n",
       "      <td>NaN</td>\n",
       "      <td>4245</td>\n",
       "      <td>2014-12-06 02</td>\n",
       "      <td>2014-12-06</td>\n",
       "      <td>02</td>\n",
       "    </tr>\n",
       "    <tr>\n",
       "      <td>1</td>\n",
       "      <td>97726136</td>\n",
       "      <td>383583590</td>\n",
       "      <td>1</td>\n",
       "      <td>NaN</td>\n",
       "      <td>5894</td>\n",
       "      <td>2014-12-09 20</td>\n",
       "      <td>2014-12-09</td>\n",
       "      <td>20</td>\n",
       "    </tr>\n",
       "    <tr>\n",
       "      <td>2</td>\n",
       "      <td>98607707</td>\n",
       "      <td>64749712</td>\n",
       "      <td>1</td>\n",
       "      <td>NaN</td>\n",
       "      <td>2883</td>\n",
       "      <td>2014-12-18 11</td>\n",
       "      <td>2014-12-18</td>\n",
       "      <td>11</td>\n",
       "    </tr>\n",
       "    <tr>\n",
       "      <td>3</td>\n",
       "      <td>98662432</td>\n",
       "      <td>320593836</td>\n",
       "      <td>1</td>\n",
       "      <td>96nn52n</td>\n",
       "      <td>6562</td>\n",
       "      <td>2014-12-06 10</td>\n",
       "      <td>2014-12-06</td>\n",
       "      <td>10</td>\n",
       "    </tr>\n",
       "    <tr>\n",
       "      <td>4</td>\n",
       "      <td>98145908</td>\n",
       "      <td>290208520</td>\n",
       "      <td>1</td>\n",
       "      <td>NaN</td>\n",
       "      <td>13926</td>\n",
       "      <td>2014-12-16 21</td>\n",
       "      <td>2014-12-16</td>\n",
       "      <td>21</td>\n",
       "    </tr>\n",
       "  </tbody>\n",
       "</table>\n",
       "</div>"
      ],
      "text/plain": [
       "    user_id    item_id behavior_type user_geohash item_category  \\\n",
       "0  98047837  232431562             1          NaN          4245   \n",
       "1  97726136  383583590             1          NaN          5894   \n",
       "2  98607707   64749712             1          NaN          2883   \n",
       "3  98662432  320593836             1      96nn52n          6562   \n",
       "4  98145908  290208520             1          NaN         13926   \n",
       "\n",
       "            time        date hour  \n",
       "0  2014-12-06 02  2014-12-06   02  \n",
       "1  2014-12-09 20  2014-12-09   20  \n",
       "2  2014-12-18 11  2014-12-18   11  \n",
       "3  2014-12-06 10  2014-12-06   10  \n",
       "4  2014-12-16 21  2014-12-16   21  "
      ]
     },
     "execution_count": 31,
     "metadata": {},
     "output_type": "execute_result"
    }
   ],
   "source": [
    "data_user.head()"
   ]
  },
  {
   "cell_type": "code",
   "execution_count": 162,
   "metadata": {},
   "outputs": [],
   "source": [
    "# data_user['hour'].fillna(25)   # 缺失值数据类型转换时候的第二种方法，即填充\n",
    "\n",
    "data_user['time'] = pd.to_datetime(data_user['time'])\n",
    "data_user['date'] = pd.to_datetime(data_user['date'])\n",
    "data_user['hour'] = data_user['hour'].astype(int)"
   ]
  },
  {
   "cell_type": "code",
   "execution_count": 33,
   "metadata": {},
   "outputs": [
    {
     "data": {
      "text/html": [
       "<div>\n",
       "<style scoped>\n",
       "    .dataframe tbody tr th:only-of-type {\n",
       "        vertical-align: middle;\n",
       "    }\n",
       "\n",
       "    .dataframe tbody tr th {\n",
       "        vertical-align: top;\n",
       "    }\n",
       "\n",
       "    .dataframe thead th {\n",
       "        text-align: right;\n",
       "    }\n",
       "</style>\n",
       "<table border=\"1\" class=\"dataframe\">\n",
       "  <thead>\n",
       "    <tr style=\"text-align: right;\">\n",
       "      <th></th>\n",
       "      <th>user_id</th>\n",
       "      <th>item_id</th>\n",
       "      <th>behavior_type</th>\n",
       "      <th>user_geohash</th>\n",
       "      <th>item_category</th>\n",
       "      <th>time</th>\n",
       "      <th>date</th>\n",
       "      <th>hour</th>\n",
       "    </tr>\n",
       "  </thead>\n",
       "  <tbody>\n",
       "    <tr>\n",
       "      <td>0</td>\n",
       "      <td>98047837</td>\n",
       "      <td>232431562</td>\n",
       "      <td>1</td>\n",
       "      <td>NaN</td>\n",
       "      <td>4245</td>\n",
       "      <td>2014-12-06 02:00:00</td>\n",
       "      <td>2014-12-06</td>\n",
       "      <td>2</td>\n",
       "    </tr>\n",
       "    <tr>\n",
       "      <td>1</td>\n",
       "      <td>97726136</td>\n",
       "      <td>383583590</td>\n",
       "      <td>1</td>\n",
       "      <td>NaN</td>\n",
       "      <td>5894</td>\n",
       "      <td>2014-12-09 20:00:00</td>\n",
       "      <td>2014-12-09</td>\n",
       "      <td>20</td>\n",
       "    </tr>\n",
       "    <tr>\n",
       "      <td>2</td>\n",
       "      <td>98607707</td>\n",
       "      <td>64749712</td>\n",
       "      <td>1</td>\n",
       "      <td>NaN</td>\n",
       "      <td>2883</td>\n",
       "      <td>2014-12-18 11:00:00</td>\n",
       "      <td>2014-12-18</td>\n",
       "      <td>11</td>\n",
       "    </tr>\n",
       "    <tr>\n",
       "      <td>3</td>\n",
       "      <td>98662432</td>\n",
       "      <td>320593836</td>\n",
       "      <td>1</td>\n",
       "      <td>96nn52n</td>\n",
       "      <td>6562</td>\n",
       "      <td>2014-12-06 10:00:00</td>\n",
       "      <td>2014-12-06</td>\n",
       "      <td>10</td>\n",
       "    </tr>\n",
       "    <tr>\n",
       "      <td>4</td>\n",
       "      <td>98145908</td>\n",
       "      <td>290208520</td>\n",
       "      <td>1</td>\n",
       "      <td>NaN</td>\n",
       "      <td>13926</td>\n",
       "      <td>2014-12-16 21:00:00</td>\n",
       "      <td>2014-12-16</td>\n",
       "      <td>21</td>\n",
       "    </tr>\n",
       "  </tbody>\n",
       "</table>\n",
       "</div>"
      ],
      "text/plain": [
       "    user_id    item_id behavior_type user_geohash item_category  \\\n",
       "0  98047837  232431562             1          NaN          4245   \n",
       "1  97726136  383583590             1          NaN          5894   \n",
       "2  98607707   64749712             1          NaN          2883   \n",
       "3  98662432  320593836             1      96nn52n          6562   \n",
       "4  98145908  290208520             1          NaN         13926   \n",
       "\n",
       "                 time       date  hour  \n",
       "0 2014-12-06 02:00:00 2014-12-06     2  \n",
       "1 2014-12-09 20:00:00 2014-12-09    20  \n",
       "2 2014-12-18 11:00:00 2014-12-18    11  \n",
       "3 2014-12-06 10:00:00 2014-12-06    10  \n",
       "4 2014-12-16 21:00:00 2014-12-16    21  "
      ]
     },
     "execution_count": 33,
     "metadata": {},
     "output_type": "execute_result"
    }
   ],
   "source": [
    "data_user.head()"
   ]
  },
  {
   "cell_type": "code",
   "execution_count": 34,
   "metadata": {},
   "outputs": [],
   "source": [
    "# 对数据根据time来排序\n",
    "data_user.sort_values(by='time',ascending=True,inplace=True)"
   ]
  },
  {
   "cell_type": "code",
   "execution_count": 35,
   "metadata": {},
   "outputs": [],
   "source": [
    "# 充值索引\n",
    "data_user.reset_index(drop=True,inplace=True)"
   ]
  },
  {
   "cell_type": "code",
   "execution_count": 36,
   "metadata": {},
   "outputs": [
    {
     "data": {
      "text/html": [
       "<div>\n",
       "<style scoped>\n",
       "    .dataframe tbody tr th:only-of-type {\n",
       "        vertical-align: middle;\n",
       "    }\n",
       "\n",
       "    .dataframe tbody tr th {\n",
       "        vertical-align: top;\n",
       "    }\n",
       "\n",
       "    .dataframe thead th {\n",
       "        text-align: right;\n",
       "    }\n",
       "</style>\n",
       "<table border=\"1\" class=\"dataframe\">\n",
       "  <thead>\n",
       "    <tr style=\"text-align: right;\">\n",
       "      <th></th>\n",
       "      <th>user_id</th>\n",
       "      <th>item_id</th>\n",
       "      <th>behavior_type</th>\n",
       "      <th>user_geohash</th>\n",
       "      <th>item_category</th>\n",
       "      <th>time</th>\n",
       "      <th>date</th>\n",
       "      <th>hour</th>\n",
       "    </tr>\n",
       "  </thead>\n",
       "  <tbody>\n",
       "    <tr>\n",
       "      <td>0</td>\n",
       "      <td>130270245</td>\n",
       "      <td>253791580</td>\n",
       "      <td>2</td>\n",
       "      <td>NaN</td>\n",
       "      <td>9261</td>\n",
       "      <td>2014-11-18 00:00:00</td>\n",
       "      <td>2014-11-18</td>\n",
       "      <td>0</td>\n",
       "    </tr>\n",
       "    <tr>\n",
       "      <td>1</td>\n",
       "      <td>71146691</td>\n",
       "      <td>373475577</td>\n",
       "      <td>1</td>\n",
       "      <td>NaN</td>\n",
       "      <td>4370</td>\n",
       "      <td>2014-11-18 00:00:00</td>\n",
       "      <td>2014-11-18</td>\n",
       "      <td>0</td>\n",
       "    </tr>\n",
       "    <tr>\n",
       "      <td>2</td>\n",
       "      <td>71146691</td>\n",
       "      <td>212152444</td>\n",
       "      <td>1</td>\n",
       "      <td>NaN</td>\n",
       "      <td>1863</td>\n",
       "      <td>2014-11-18 00:00:00</td>\n",
       "      <td>2014-11-18</td>\n",
       "      <td>0</td>\n",
       "    </tr>\n",
       "    <tr>\n",
       "      <td>3</td>\n",
       "      <td>88271974</td>\n",
       "      <td>25265374</td>\n",
       "      <td>1</td>\n",
       "      <td>NaN</td>\n",
       "      <td>1488</td>\n",
       "      <td>2014-11-18 00:00:00</td>\n",
       "      <td>2014-11-18</td>\n",
       "      <td>0</td>\n",
       "    </tr>\n",
       "    <tr>\n",
       "      <td>4</td>\n",
       "      <td>106634442</td>\n",
       "      <td>44026159</td>\n",
       "      <td>1</td>\n",
       "      <td>NaN</td>\n",
       "      <td>11955</td>\n",
       "      <td>2014-11-18 00:00:00</td>\n",
       "      <td>2014-11-18</td>\n",
       "      <td>0</td>\n",
       "    </tr>\n",
       "    <tr>\n",
       "      <td>...</td>\n",
       "      <td>...</td>\n",
       "      <td>...</td>\n",
       "      <td>...</td>\n",
       "      <td>...</td>\n",
       "      <td>...</td>\n",
       "      <td>...</td>\n",
       "      <td>...</td>\n",
       "      <td>...</td>\n",
       "    </tr>\n",
       "    <tr>\n",
       "      <td>802751</td>\n",
       "      <td>132966536</td>\n",
       "      <td>175578758</td>\n",
       "      <td>1</td>\n",
       "      <td>NaN</td>\n",
       "      <td>1083</td>\n",
       "      <td>2014-12-18 23:00:00</td>\n",
       "      <td>2014-12-18</td>\n",
       "      <td>23</td>\n",
       "    </tr>\n",
       "    <tr>\n",
       "      <td>802752</td>\n",
       "      <td>88826481</td>\n",
       "      <td>24201365</td>\n",
       "      <td>1</td>\n",
       "      <td>NaN</td>\n",
       "      <td>2261</td>\n",
       "      <td>2014-12-18 23:00:00</td>\n",
       "      <td>2014-12-18</td>\n",
       "      <td>23</td>\n",
       "    </tr>\n",
       "    <tr>\n",
       "      <td>802753</td>\n",
       "      <td>92746744</td>\n",
       "      <td>174717351</td>\n",
       "      <td>3</td>\n",
       "      <td>956mmpt</td>\n",
       "      <td>437</td>\n",
       "      <td>2014-12-18 23:00:00</td>\n",
       "      <td>2014-12-18</td>\n",
       "      <td>23</td>\n",
       "    </tr>\n",
       "    <tr>\n",
       "      <td>802754</td>\n",
       "      <td>79266183</td>\n",
       "      <td>15955333</td>\n",
       "      <td>1</td>\n",
       "      <td>9rneew6</td>\n",
       "      <td>10567</td>\n",
       "      <td>2014-12-18 23:00:00</td>\n",
       "      <td>2014-12-18</td>\n",
       "      <td>23</td>\n",
       "    </tr>\n",
       "    <tr>\n",
       "      <td>802755</td>\n",
       "      <td>44462249</td>\n",
       "      <td>299263526</td>\n",
       "      <td>1</td>\n",
       "      <td>9rg2ntw</td>\n",
       "      <td>730</td>\n",
       "      <td>2014-12-18 23:00:00</td>\n",
       "      <td>2014-12-18</td>\n",
       "      <td>23</td>\n",
       "    </tr>\n",
       "  </tbody>\n",
       "</table>\n",
       "<p>802756 rows × 8 columns</p>\n",
       "</div>"
      ],
      "text/plain": [
       "          user_id    item_id behavior_type user_geohash item_category  \\\n",
       "0       130270245  253791580             2          NaN          9261   \n",
       "1        71146691  373475577             1          NaN          4370   \n",
       "2        71146691  212152444             1          NaN          1863   \n",
       "3        88271974   25265374             1          NaN          1488   \n",
       "4       106634442   44026159             1          NaN         11955   \n",
       "...           ...        ...           ...          ...           ...   \n",
       "802751  132966536  175578758             1          NaN          1083   \n",
       "802752   88826481   24201365             1          NaN          2261   \n",
       "802753   92746744  174717351             3      956mmpt           437   \n",
       "802754   79266183   15955333             1      9rneew6         10567   \n",
       "802755   44462249  299263526             1      9rg2ntw           730   \n",
       "\n",
       "                      time       date  hour  \n",
       "0      2014-11-18 00:00:00 2014-11-18     0  \n",
       "1      2014-11-18 00:00:00 2014-11-18     0  \n",
       "2      2014-11-18 00:00:00 2014-11-18     0  \n",
       "3      2014-11-18 00:00:00 2014-11-18     0  \n",
       "4      2014-11-18 00:00:00 2014-11-18     0  \n",
       "...                    ...        ...   ...  \n",
       "802751 2014-12-18 23:00:00 2014-12-18    23  \n",
       "802752 2014-12-18 23:00:00 2014-12-18    23  \n",
       "802753 2014-12-18 23:00:00 2014-12-18    23  \n",
       "802754 2014-12-18 23:00:00 2014-12-18    23  \n",
       "802755 2014-12-18 23:00:00 2014-12-18    23  \n",
       "\n",
       "[802756 rows x 8 columns]"
      ]
     },
     "execution_count": 36,
     "metadata": {},
     "output_type": "execute_result"
    }
   ],
   "source": [
    "data_user"
   ]
  },
  {
   "cell_type": "code",
   "execution_count": 37,
   "metadata": {},
   "outputs": [
    {
     "data": {
      "text/html": [
       "<div>\n",
       "<style scoped>\n",
       "    .dataframe tbody tr th:only-of-type {\n",
       "        vertical-align: middle;\n",
       "    }\n",
       "\n",
       "    .dataframe tbody tr th {\n",
       "        vertical-align: top;\n",
       "    }\n",
       "\n",
       "    .dataframe thead th {\n",
       "        text-align: right;\n",
       "    }\n",
       "</style>\n",
       "<table border=\"1\" class=\"dataframe\">\n",
       "  <thead>\n",
       "    <tr style=\"text-align: right;\">\n",
       "      <th></th>\n",
       "      <th>user_id</th>\n",
       "      <th>item_id</th>\n",
       "      <th>behavior_type</th>\n",
       "      <th>user_geohash</th>\n",
       "      <th>item_category</th>\n",
       "    </tr>\n",
       "  </thead>\n",
       "  <tbody>\n",
       "    <tr>\n",
       "      <td>count</td>\n",
       "      <td>802756</td>\n",
       "      <td>802756</td>\n",
       "      <td>802756</td>\n",
       "      <td>252627</td>\n",
       "      <td>802756</td>\n",
       "    </tr>\n",
       "    <tr>\n",
       "      <td>unique</td>\n",
       "      <td>6471</td>\n",
       "      <td>554441</td>\n",
       "      <td>4</td>\n",
       "      <td>132483</td>\n",
       "      <td>6753</td>\n",
       "    </tr>\n",
       "    <tr>\n",
       "      <td>top</td>\n",
       "      <td>36233277</td>\n",
       "      <td>97655171</td>\n",
       "      <td>1</td>\n",
       "      <td>94ek6lw</td>\n",
       "      <td>1863</td>\n",
       "    </tr>\n",
       "    <tr>\n",
       "      <td>freq</td>\n",
       "      <td>3117</td>\n",
       "      <td>108</td>\n",
       "      <td>756386</td>\n",
       "      <td>101</td>\n",
       "      <td>26360</td>\n",
       "    </tr>\n",
       "  </tbody>\n",
       "</table>\n",
       "</div>"
      ],
      "text/plain": [
       "         user_id   item_id behavior_type user_geohash item_category\n",
       "count     802756    802756        802756       252627        802756\n",
       "unique      6471    554441             4       132483          6753\n",
       "top     36233277  97655171             1      94ek6lw          1863\n",
       "freq        3117       108        756386          101         26360"
      ]
     },
     "execution_count": 37,
     "metadata": {},
     "output_type": "execute_result"
    }
   ],
   "source": [
    "# 字符型变量的数据的描述\n",
    "data_user.describe(include=['object'])"
   ]
  },
  {
   "cell_type": "code",
   "execution_count": 39,
   "metadata": {},
   "outputs": [
    {
     "data": {
      "text/html": [
       "<div>\n",
       "<style scoped>\n",
       "    .dataframe tbody tr th:only-of-type {\n",
       "        vertical-align: middle;\n",
       "    }\n",
       "\n",
       "    .dataframe tbody tr th {\n",
       "        vertical-align: top;\n",
       "    }\n",
       "\n",
       "    .dataframe thead th {\n",
       "        text-align: right;\n",
       "    }\n",
       "</style>\n",
       "<table border=\"1\" class=\"dataframe\">\n",
       "  <thead>\n",
       "    <tr style=\"text-align: right;\">\n",
       "      <th></th>\n",
       "      <th>user_id</th>\n",
       "      <th>item_id</th>\n",
       "      <th>behavior_type</th>\n",
       "      <th>user_geohash</th>\n",
       "      <th>item_category</th>\n",
       "      <th>time</th>\n",
       "      <th>date</th>\n",
       "      <th>hour</th>\n",
       "    </tr>\n",
       "  </thead>\n",
       "  <tbody>\n",
       "    <tr>\n",
       "      <td>count</td>\n",
       "      <td>802756</td>\n",
       "      <td>802756</td>\n",
       "      <td>802756</td>\n",
       "      <td>252627</td>\n",
       "      <td>802756</td>\n",
       "      <td>802756</td>\n",
       "      <td>802756</td>\n",
       "      <td>802756.000000</td>\n",
       "    </tr>\n",
       "    <tr>\n",
       "      <td>unique</td>\n",
       "      <td>6471</td>\n",
       "      <td>554441</td>\n",
       "      <td>4</td>\n",
       "      <td>132483</td>\n",
       "      <td>6753</td>\n",
       "      <td>744</td>\n",
       "      <td>31</td>\n",
       "      <td>NaN</td>\n",
       "    </tr>\n",
       "    <tr>\n",
       "      <td>top</td>\n",
       "      <td>36233277</td>\n",
       "      <td>97655171</td>\n",
       "      <td>1</td>\n",
       "      <td>94ek6lw</td>\n",
       "      <td>1863</td>\n",
       "      <td>2014-12-11 22:00:00</td>\n",
       "      <td>2014-12-12 00:00:00</td>\n",
       "      <td>NaN</td>\n",
       "    </tr>\n",
       "    <tr>\n",
       "      <td>freq</td>\n",
       "      <td>3117</td>\n",
       "      <td>108</td>\n",
       "      <td>756386</td>\n",
       "      <td>101</td>\n",
       "      <td>26360</td>\n",
       "      <td>3480</td>\n",
       "      <td>45197</td>\n",
       "      <td>NaN</td>\n",
       "    </tr>\n",
       "    <tr>\n",
       "      <td>first</td>\n",
       "      <td>NaN</td>\n",
       "      <td>NaN</td>\n",
       "      <td>NaN</td>\n",
       "      <td>NaN</td>\n",
       "      <td>NaN</td>\n",
       "      <td>2014-11-18 00:00:00</td>\n",
       "      <td>2014-11-18 00:00:00</td>\n",
       "      <td>NaN</td>\n",
       "    </tr>\n",
       "    <tr>\n",
       "      <td>last</td>\n",
       "      <td>NaN</td>\n",
       "      <td>NaN</td>\n",
       "      <td>NaN</td>\n",
       "      <td>NaN</td>\n",
       "      <td>NaN</td>\n",
       "      <td>2014-12-18 23:00:00</td>\n",
       "      <td>2014-12-18 00:00:00</td>\n",
       "      <td>NaN</td>\n",
       "    </tr>\n",
       "    <tr>\n",
       "      <td>mean</td>\n",
       "      <td>NaN</td>\n",
       "      <td>NaN</td>\n",
       "      <td>NaN</td>\n",
       "      <td>NaN</td>\n",
       "      <td>NaN</td>\n",
       "      <td>NaN</td>\n",
       "      <td>NaN</td>\n",
       "      <td>14.783176</td>\n",
       "    </tr>\n",
       "    <tr>\n",
       "      <td>std</td>\n",
       "      <td>NaN</td>\n",
       "      <td>NaN</td>\n",
       "      <td>NaN</td>\n",
       "      <td>NaN</td>\n",
       "      <td>NaN</td>\n",
       "      <td>NaN</td>\n",
       "      <td>NaN</td>\n",
       "      <td>6.516358</td>\n",
       "    </tr>\n",
       "    <tr>\n",
       "      <td>min</td>\n",
       "      <td>NaN</td>\n",
       "      <td>NaN</td>\n",
       "      <td>NaN</td>\n",
       "      <td>NaN</td>\n",
       "      <td>NaN</td>\n",
       "      <td>NaN</td>\n",
       "      <td>NaN</td>\n",
       "      <td>0.000000</td>\n",
       "    </tr>\n",
       "    <tr>\n",
       "      <td>25%</td>\n",
       "      <td>NaN</td>\n",
       "      <td>NaN</td>\n",
       "      <td>NaN</td>\n",
       "      <td>NaN</td>\n",
       "      <td>NaN</td>\n",
       "      <td>NaN</td>\n",
       "      <td>NaN</td>\n",
       "      <td>10.000000</td>\n",
       "    </tr>\n",
       "    <tr>\n",
       "      <td>50%</td>\n",
       "      <td>NaN</td>\n",
       "      <td>NaN</td>\n",
       "      <td>NaN</td>\n",
       "      <td>NaN</td>\n",
       "      <td>NaN</td>\n",
       "      <td>NaN</td>\n",
       "      <td>NaN</td>\n",
       "      <td>16.000000</td>\n",
       "    </tr>\n",
       "    <tr>\n",
       "      <td>75%</td>\n",
       "      <td>NaN</td>\n",
       "      <td>NaN</td>\n",
       "      <td>NaN</td>\n",
       "      <td>NaN</td>\n",
       "      <td>NaN</td>\n",
       "      <td>NaN</td>\n",
       "      <td>NaN</td>\n",
       "      <td>20.000000</td>\n",
       "    </tr>\n",
       "    <tr>\n",
       "      <td>max</td>\n",
       "      <td>NaN</td>\n",
       "      <td>NaN</td>\n",
       "      <td>NaN</td>\n",
       "      <td>NaN</td>\n",
       "      <td>NaN</td>\n",
       "      <td>NaN</td>\n",
       "      <td>NaN</td>\n",
       "      <td>23.000000</td>\n",
       "    </tr>\n",
       "  </tbody>\n",
       "</table>\n",
       "</div>"
      ],
      "text/plain": [
       "         user_id   item_id behavior_type user_geohash item_category  \\\n",
       "count     802756    802756        802756       252627        802756   \n",
       "unique      6471    554441             4       132483          6753   \n",
       "top     36233277  97655171             1      94ek6lw          1863   \n",
       "freq        3117       108        756386          101         26360   \n",
       "first        NaN       NaN           NaN          NaN           NaN   \n",
       "last         NaN       NaN           NaN          NaN           NaN   \n",
       "mean         NaN       NaN           NaN          NaN           NaN   \n",
       "std          NaN       NaN           NaN          NaN           NaN   \n",
       "min          NaN       NaN           NaN          NaN           NaN   \n",
       "25%          NaN       NaN           NaN          NaN           NaN   \n",
       "50%          NaN       NaN           NaN          NaN           NaN   \n",
       "75%          NaN       NaN           NaN          NaN           NaN   \n",
       "max          NaN       NaN           NaN          NaN           NaN   \n",
       "\n",
       "                       time                 date           hour  \n",
       "count                802756               802756  802756.000000  \n",
       "unique                  744                   31            NaN  \n",
       "top     2014-12-11 22:00:00  2014-12-12 00:00:00            NaN  \n",
       "freq                   3480                45197            NaN  \n",
       "first   2014-11-18 00:00:00  2014-11-18 00:00:00            NaN  \n",
       "last    2014-12-18 23:00:00  2014-12-18 00:00:00            NaN  \n",
       "mean                    NaN                  NaN      14.783176  \n",
       "std                     NaN                  NaN       6.516358  \n",
       "min                     NaN                  NaN       0.000000  \n",
       "25%                     NaN                  NaN      10.000000  \n",
       "50%                     NaN                  NaN      16.000000  \n",
       "75%                     NaN                  NaN      20.000000  \n",
       "max                     NaN                  NaN      23.000000  "
      ]
     },
     "execution_count": 39,
     "metadata": {},
     "output_type": "execute_result"
    }
   ],
   "source": [
    "# 所有的数据的描述\n",
    "data_user.describe(include='all')"
   ]
  },
  {
   "cell_type": "markdown",
   "metadata": {},
   "source": [
    "#### 四、构建模型"
   ]
  },
  {
   "cell_type": "code",
   "execution_count": null,
   "metadata": {},
   "outputs": [],
   "source": [
    "分析  PV访问量，UV独立访客"
   ]
  },
  {
   "cell_type": "code",
   "execution_count": 43,
   "metadata": {},
   "outputs": [],
   "source": [
    "# 每天的访问量\n",
    "pv_daily = data_user.groupby('date').count()['user_id']"
   ]
  },
  {
   "cell_type": "code",
   "execution_count": 44,
   "metadata": {},
   "outputs": [
    {
     "data": {
      "text/plain": [
       "date\n",
       "2014-11-18    23943\n",
       "2014-11-19    23250\n",
       "2014-11-20    23372\n",
       "2014-11-21    21888\n",
       "2014-11-22    23832\n",
       "Name: user_id, dtype: int64"
      ]
     },
     "execution_count": 44,
     "metadata": {},
     "output_type": "execute_result"
    }
   ],
   "source": [
    "pv_daily.head()"
   ]
  },
  {
   "cell_type": "code",
   "execution_count": 45,
   "metadata": {},
   "outputs": [],
   "source": [
    "# 每天不同独立访客量\n",
    "uv_daily = data_user.groupby('date')['user_id'].apply(lambda x: x.drop_duplicates().count())"
   ]
  },
  {
   "cell_type": "code",
   "execution_count": 46,
   "metadata": {},
   "outputs": [
    {
     "data": {
      "text/plain": [
       "date\n",
       "2014-11-18    3286\n",
       "2014-11-19    3268\n",
       "2014-11-20    3296\n",
       "2014-11-21    3202\n",
       "2014-11-22    3157\n",
       "Name: user_id, dtype: int64"
      ]
     },
     "execution_count": 46,
     "metadata": {},
     "output_type": "execute_result"
    }
   ],
   "source": [
    "uv_daily.head()"
   ]
  },
  {
   "cell_type": "code",
   "execution_count": 55,
   "metadata": {},
   "outputs": [],
   "source": [
    "pv_uv_daily = pd.concat([pv_daily,uv_daily],axis=1)"
   ]
  },
  {
   "cell_type": "code",
   "execution_count": 48,
   "metadata": {},
   "outputs": [
    {
     "data": {
      "text/html": [
       "<div>\n",
       "<style scoped>\n",
       "    .dataframe tbody tr th:only-of-type {\n",
       "        vertical-align: middle;\n",
       "    }\n",
       "\n",
       "    .dataframe tbody tr th {\n",
       "        vertical-align: top;\n",
       "    }\n",
       "\n",
       "    .dataframe thead th {\n",
       "        text-align: right;\n",
       "    }\n",
       "</style>\n",
       "<table border=\"1\" class=\"dataframe\">\n",
       "  <thead>\n",
       "    <tr style=\"text-align: right;\">\n",
       "      <th></th>\n",
       "      <th>user_id</th>\n",
       "      <th>user_id</th>\n",
       "    </tr>\n",
       "    <tr>\n",
       "      <th>date</th>\n",
       "      <th></th>\n",
       "      <th></th>\n",
       "    </tr>\n",
       "  </thead>\n",
       "  <tbody>\n",
       "    <tr>\n",
       "      <td>2014-11-18</td>\n",
       "      <td>23943</td>\n",
       "      <td>3286</td>\n",
       "    </tr>\n",
       "    <tr>\n",
       "      <td>2014-11-19</td>\n",
       "      <td>23250</td>\n",
       "      <td>3268</td>\n",
       "    </tr>\n",
       "    <tr>\n",
       "      <td>2014-11-20</td>\n",
       "      <td>23372</td>\n",
       "      <td>3296</td>\n",
       "    </tr>\n",
       "    <tr>\n",
       "      <td>2014-11-21</td>\n",
       "      <td>21888</td>\n",
       "      <td>3202</td>\n",
       "    </tr>\n",
       "    <tr>\n",
       "      <td>2014-11-22</td>\n",
       "      <td>23832</td>\n",
       "      <td>3157</td>\n",
       "    </tr>\n",
       "  </tbody>\n",
       "</table>\n",
       "</div>"
      ],
      "text/plain": [
       "            user_id  user_id\n",
       "date                        \n",
       "2014-11-18    23943     3286\n",
       "2014-11-19    23250     3268\n",
       "2014-11-20    23372     3296\n",
       "2014-11-21    21888     3202\n",
       "2014-11-22    23832     3157"
      ]
     },
     "execution_count": 48,
     "metadata": {},
     "output_type": "execute_result"
    }
   ],
   "source": [
    "pv_uv_daily.head()"
   ]
  },
  {
   "cell_type": "code",
   "execution_count": 60,
   "metadata": {},
   "outputs": [],
   "source": [
    "pv_uv_daily.columns = ['pv','uv']\n",
    "# pv_uv_daily.rename(columns={'user_id':'pv','user_id':'uv'},inplace=True)"
   ]
  },
  {
   "cell_type": "code",
   "execution_count": 61,
   "metadata": {},
   "outputs": [
    {
     "data": {
      "text/html": [
       "<div>\n",
       "<style scoped>\n",
       "    .dataframe tbody tr th:only-of-type {\n",
       "        vertical-align: middle;\n",
       "    }\n",
       "\n",
       "    .dataframe tbody tr th {\n",
       "        vertical-align: top;\n",
       "    }\n",
       "\n",
       "    .dataframe thead th {\n",
       "        text-align: right;\n",
       "    }\n",
       "</style>\n",
       "<table border=\"1\" class=\"dataframe\">\n",
       "  <thead>\n",
       "    <tr style=\"text-align: right;\">\n",
       "      <th></th>\n",
       "      <th>pv</th>\n",
       "      <th>uv</th>\n",
       "    </tr>\n",
       "    <tr>\n",
       "      <th>date</th>\n",
       "      <th></th>\n",
       "      <th></th>\n",
       "    </tr>\n",
       "  </thead>\n",
       "  <tbody>\n",
       "    <tr>\n",
       "      <td>2014-11-18</td>\n",
       "      <td>23943</td>\n",
       "      <td>3286</td>\n",
       "    </tr>\n",
       "    <tr>\n",
       "      <td>2014-11-19</td>\n",
       "      <td>23250</td>\n",
       "      <td>3268</td>\n",
       "    </tr>\n",
       "    <tr>\n",
       "      <td>2014-11-20</td>\n",
       "      <td>23372</td>\n",
       "      <td>3296</td>\n",
       "    </tr>\n",
       "    <tr>\n",
       "      <td>2014-11-21</td>\n",
       "      <td>21888</td>\n",
       "      <td>3202</td>\n",
       "    </tr>\n",
       "    <tr>\n",
       "      <td>2014-11-22</td>\n",
       "      <td>23832</td>\n",
       "      <td>3157</td>\n",
       "    </tr>\n",
       "  </tbody>\n",
       "</table>\n",
       "</div>"
      ],
      "text/plain": [
       "               pv    uv\n",
       "date                   \n",
       "2014-11-18  23943  3286\n",
       "2014-11-19  23250  3268\n",
       "2014-11-20  23372  3296\n",
       "2014-11-21  21888  3202\n",
       "2014-11-22  23832  3157"
      ]
     },
     "execution_count": 61,
     "metadata": {},
     "output_type": "execute_result"
    }
   ],
   "source": [
    "pv_uv_daily.head()"
   ]
  },
  {
   "cell_type": "code",
   "execution_count": 63,
   "metadata": {},
   "outputs": [
    {
     "data": {
      "text/html": [
       "<div>\n",
       "<style scoped>\n",
       "    .dataframe tbody tr th:only-of-type {\n",
       "        vertical-align: middle;\n",
       "    }\n",
       "\n",
       "    .dataframe tbody tr th {\n",
       "        vertical-align: top;\n",
       "    }\n",
       "\n",
       "    .dataframe thead th {\n",
       "        text-align: right;\n",
       "    }\n",
       "</style>\n",
       "<table border=\"1\" class=\"dataframe\">\n",
       "  <thead>\n",
       "    <tr style=\"text-align: right;\">\n",
       "      <th></th>\n",
       "      <th>pv</th>\n",
       "      <th>uv</th>\n",
       "    </tr>\n",
       "  </thead>\n",
       "  <tbody>\n",
       "    <tr>\n",
       "      <td>pv</td>\n",
       "      <td>1.000000</td>\n",
       "      <td>0.964318</td>\n",
       "    </tr>\n",
       "    <tr>\n",
       "      <td>uv</td>\n",
       "      <td>0.964318</td>\n",
       "      <td>1.000000</td>\n",
       "    </tr>\n",
       "  </tbody>\n",
       "</table>\n",
       "</div>"
      ],
      "text/plain": [
       "          pv        uv\n",
       "pv  1.000000  0.964318\n",
       "uv  0.964318  1.000000"
      ]
     },
     "execution_count": 63,
     "metadata": {},
     "output_type": "execute_result"
    }
   ],
   "source": [
    "# 计算pv和uv的相关系数\n",
    "pv_uv_daily.corr(method='pearson')"
   ]
  },
  {
   "cell_type": "markdown",
   "metadata": {},
   "source": [
    "可知日访问量和日访客数是成正向相关的"
   ]
  },
  {
   "cell_type": "code",
   "execution_count": 80,
   "metadata": {},
   "outputs": [
    {
     "data": {
      "image/png": "[encoded data removed]",
      "text/plain": [
       "<Figure size 1152x648 with 2 Axes>"
      ]
     },
     "metadata": {},
     "output_type": "display_data"
    }
   ],
   "source": [
    "plt.figure(figsize=(16,9))\n",
    "plt.subplot(211)\n",
    "plt.xticks(rotation=30,fontsize=15)\n",
    "plt.plot(pv_daily,color='red')\n",
    "plt.title('每天访问量')\n",
    "\n",
    "plt.subplot(212)\n",
    "plt.xticks(rotation=30)\n",
    "plt.plot(uv_daily,color='gold')\n",
    "plt.title('每天访客数量')\n",
    "plt.suptitle('uv和pv的变化趋势')\n",
    "\n",
    "plt.show()"
   ]
  },
  {
   "cell_type": "code",
   "execution_count": 81,
   "metadata": {},
   "outputs": [],
   "source": [
    "pv_hour = data_user.groupby('hour').count()['user_id']\n",
    "uv_hour = data_user.groupby('hour')['user_id'].apply(lambda x: x.drop_duplicates().count())"
   ]
  },
  {
   "cell_type": "code",
   "execution_count": 82,
   "metadata": {},
   "outputs": [],
   "source": [
    "pv_uv_hour = pd.concat([pv_hour,uv_hour],axis=1)"
   ]
  },
  {
   "cell_type": "code",
   "execution_count": 86,
   "metadata": {},
   "outputs": [
    {
     "data": {
      "text/html": [
       "<div>\n",
       "<style scoped>\n",
       "    .dataframe tbody tr th:only-of-type {\n",
       "        vertical-align: middle;\n",
       "    }\n",
       "\n",
       "    .dataframe tbody tr th {\n",
       "        vertical-align: top;\n",
       "    }\n",
       "\n",
       "    .dataframe thead th {\n",
       "        text-align: right;\n",
       "    }\n",
       "</style>\n",
       "<table border=\"1\" class=\"dataframe\">\n",
       "  <thead>\n",
       "    <tr style=\"text-align: right;\">\n",
       "      <th></th>\n",
       "      <th>pv</th>\n",
       "      <th>uv</th>\n",
       "    </tr>\n",
       "    <tr>\n",
       "      <th>hour</th>\n",
       "      <th></th>\n",
       "      <th></th>\n",
       "    </tr>\n",
       "  </thead>\n",
       "  <tbody>\n",
       "    <tr>\n",
       "      <td>0</td>\n",
       "      <td>35088</td>\n",
       "      <td>3095</td>\n",
       "    </tr>\n",
       "    <tr>\n",
       "      <td>1</td>\n",
       "      <td>18433</td>\n",
       "      <td>1937</td>\n",
       "    </tr>\n",
       "    <tr>\n",
       "      <td>2</td>\n",
       "      <td>10035</td>\n",
       "      <td>1254</td>\n",
       "    </tr>\n",
       "    <tr>\n",
       "      <td>3</td>\n",
       "      <td>6552</td>\n",
       "      <td>947</td>\n",
       "    </tr>\n",
       "    <tr>\n",
       "      <td>4</td>\n",
       "      <td>5006</td>\n",
       "      <td>843</td>\n",
       "    </tr>\n",
       "  </tbody>\n",
       "</table>\n",
       "</div>"
      ],
      "text/plain": [
       "         pv    uv\n",
       "hour             \n",
       "0     35088  3095\n",
       "1     18433  1937\n",
       "2     10035  1254\n",
       "3      6552   947\n",
       "4      5006   843"
      ]
     },
     "execution_count": 86,
     "metadata": {},
     "output_type": "execute_result"
    }
   ],
   "source": [
    "pv_uv_hour.columns = ['pv','uv']\n",
    "pv_uv_hour.head()"
   ]
  },
  {
   "cell_type": "code",
   "execution_count": 87,
   "metadata": {},
   "outputs": [
    {
     "data": {
      "text/html": [
       "<div>\n",
       "<style scoped>\n",
       "    .dataframe tbody tr th:only-of-type {\n",
       "        vertical-align: middle;\n",
       "    }\n",
       "\n",
       "    .dataframe tbody tr th {\n",
       "        vertical-align: top;\n",
       "    }\n",
       "\n",
       "    .dataframe thead th {\n",
       "        text-align: right;\n",
       "    }\n",
       "</style>\n",
       "<table border=\"1\" class=\"dataframe\">\n",
       "  <thead>\n",
       "    <tr style=\"text-align: right;\">\n",
       "      <th></th>\n",
       "      <th>pv</th>\n",
       "      <th>uv</th>\n",
       "    </tr>\n",
       "  </thead>\n",
       "  <tbody>\n",
       "    <tr>\n",
       "      <td>pv</td>\n",
       "      <td>1.000000</td>\n",
       "      <td>0.879253</td>\n",
       "    </tr>\n",
       "    <tr>\n",
       "      <td>uv</td>\n",
       "      <td>0.879253</td>\n",
       "      <td>1.000000</td>\n",
       "    </tr>\n",
       "  </tbody>\n",
       "</table>\n",
       "</div>"
      ],
      "text/plain": [
       "          pv        uv\n",
       "pv  1.000000  0.879253\n",
       "uv  0.879253  1.000000"
      ]
     },
     "execution_count": 87,
     "metadata": {},
     "output_type": "execute_result"
    }
   ],
   "source": [
    "pv_uv_hour.corr()"
   ]
  },
  {
   "cell_type": "code",
   "execution_count": 94,
   "metadata": {},
   "outputs": [
    {
     "data": {
      "image/png": "[encoded data removed]",
      "text/plain": [
       "<Figure size 1152x648 with 2 Axes>"
      ]
     },
     "metadata": {},
     "output_type": "display_data"
    }
   ],
   "source": [
    "plt.figure(figsize=(16,9))\n",
    "\n",
    "pv_uv_hour['pv'].plot(color='steelblue',label='每个小时访问量')\n",
    "plt.legend(loc='upper right')\n",
    "plt.ylabel('访问量')\n",
    "\n",
    "pv_uv_hour['uv'].plot(color='red',label='每个小时不同访客量',secondary_y=True)\n",
    "plt.ylabel('访客数量')\n",
    "\n",
    "plt.xticks(range(0,24))\n",
    "plt.legend(loc='upper center')\n",
    "plt.grid(True)\n",
    "plt.show()"
   ]
  },
  {
   "cell_type": "code",
   "execution_count": 97,
   "metadata": {},
   "outputs": [],
   "source": [
    "# 不同行为类型下每个小时的访问量\n",
    "pv_detail = pd.pivot_table(columns='behavior_type',index='hour',data=data_user,values='user_id',aggfunc=np.size)"
   ]
  },
  {
   "cell_type": "code",
   "execution_count": 103,
   "metadata": {},
   "outputs": [
    {
     "data": {
      "text/html": [
       "<div>\n",
       "<style scoped>\n",
       "    .dataframe tbody tr th:only-of-type {\n",
       "        vertical-align: middle;\n",
       "    }\n",
       "\n",
       "    .dataframe tbody tr th {\n",
       "        vertical-align: top;\n",
       "    }\n",
       "\n",
       "    .dataframe thead th {\n",
       "        text-align: right;\n",
       "    }\n",
       "</style>\n",
       "<table border=\"1\" class=\"dataframe\">\n",
       "  <thead>\n",
       "    <tr style=\"text-align: right;\">\n",
       "      <th></th>\n",
       "      <th>点击</th>\n",
       "      <th>收藏</th>\n",
       "      <th>加入购物车</th>\n",
       "      <th>购买</th>\n",
       "    </tr>\n",
       "    <tr>\n",
       "      <th>hour</th>\n",
       "      <th></th>\n",
       "      <th></th>\n",
       "      <th></th>\n",
       "      <th></th>\n",
       "    </tr>\n",
       "  </thead>\n",
       "  <tbody>\n",
       "    <tr>\n",
       "      <td>0</td>\n",
       "      <td>33078</td>\n",
       "      <td>747</td>\n",
       "      <td>917</td>\n",
       "      <td>346</td>\n",
       "    </tr>\n",
       "    <tr>\n",
       "      <td>1</td>\n",
       "      <td>17436</td>\n",
       "      <td>447</td>\n",
       "      <td>424</td>\n",
       "      <td>126</td>\n",
       "    </tr>\n",
       "    <tr>\n",
       "      <td>2</td>\n",
       "      <td>9511</td>\n",
       "      <td>224</td>\n",
       "      <td>242</td>\n",
       "      <td>58</td>\n",
       "    </tr>\n",
       "    <tr>\n",
       "      <td>3</td>\n",
       "      <td>6238</td>\n",
       "      <td>125</td>\n",
       "      <td>158</td>\n",
       "      <td>31</td>\n",
       "    </tr>\n",
       "    <tr>\n",
       "      <td>4</td>\n",
       "      <td>4733</td>\n",
       "      <td>126</td>\n",
       "      <td>123</td>\n",
       "      <td>24</td>\n",
       "    </tr>\n",
       "    <tr>\n",
       "      <td>5</td>\n",
       "      <td>5498</td>\n",
       "      <td>140</td>\n",
       "      <td>149</td>\n",
       "      <td>25</td>\n",
       "    </tr>\n",
       "    <tr>\n",
       "      <td>6</td>\n",
       "      <td>9699</td>\n",
       "      <td>235</td>\n",
       "      <td>260</td>\n",
       "      <td>52</td>\n",
       "    </tr>\n",
       "    <tr>\n",
       "      <td>7</td>\n",
       "      <td>17581</td>\n",
       "      <td>370</td>\n",
       "      <td>458</td>\n",
       "      <td>105</td>\n",
       "    </tr>\n",
       "    <tr>\n",
       "      <td>8</td>\n",
       "      <td>23797</td>\n",
       "      <td>487</td>\n",
       "      <td>697</td>\n",
       "      <td>247</td>\n",
       "    </tr>\n",
       "    <tr>\n",
       "      <td>9</td>\n",
       "      <td>29886</td>\n",
       "      <td>694</td>\n",
       "      <td>836</td>\n",
       "      <td>374</td>\n",
       "    </tr>\n",
       "    <tr>\n",
       "      <td>10</td>\n",
       "      <td>34007</td>\n",
       "      <td>743</td>\n",
       "      <td>1130</td>\n",
       "      <td>456</td>\n",
       "    </tr>\n",
       "    <tr>\n",
       "      <td>11</td>\n",
       "      <td>32258</td>\n",
       "      <td>745</td>\n",
       "      <td>995</td>\n",
       "      <td>467</td>\n",
       "    </tr>\n",
       "    <tr>\n",
       "      <td>12</td>\n",
       "      <td>32726</td>\n",
       "      <td>670</td>\n",
       "      <td>957</td>\n",
       "      <td>460</td>\n",
       "    </tr>\n",
       "    <tr>\n",
       "      <td>13</td>\n",
       "      <td>36709</td>\n",
       "      <td>793</td>\n",
       "      <td>1100</td>\n",
       "      <td>467</td>\n",
       "    </tr>\n",
       "    <tr>\n",
       "      <td>14</td>\n",
       "      <td>36357</td>\n",
       "      <td>761</td>\n",
       "      <td>1116</td>\n",
       "      <td>452</td>\n",
       "    </tr>\n",
       "    <tr>\n",
       "      <td>15</td>\n",
       "      <td>36760</td>\n",
       "      <td>831</td>\n",
       "      <td>1201</td>\n",
       "      <td>459</td>\n",
       "    </tr>\n",
       "    <tr>\n",
       "      <td>16</td>\n",
       "      <td>35434</td>\n",
       "      <td>730</td>\n",
       "      <td>1051</td>\n",
       "      <td>459</td>\n",
       "    </tr>\n",
       "    <tr>\n",
       "      <td>17</td>\n",
       "      <td>31154</td>\n",
       "      <td>622</td>\n",
       "      <td>954</td>\n",
       "      <td>339</td>\n",
       "    </tr>\n",
       "    <tr>\n",
       "      <td>18</td>\n",
       "      <td>33685</td>\n",
       "      <td>691</td>\n",
       "      <td>985</td>\n",
       "      <td>342</td>\n",
       "    </tr>\n",
       "    <tr>\n",
       "      <td>19</td>\n",
       "      <td>44797</td>\n",
       "      <td>930</td>\n",
       "      <td>1190</td>\n",
       "      <td>394</td>\n",
       "    </tr>\n",
       "    <tr>\n",
       "      <td>20</td>\n",
       "      <td>57728</td>\n",
       "      <td>1082</td>\n",
       "      <td>1631</td>\n",
       "      <td>498</td>\n",
       "    </tr>\n",
       "    <tr>\n",
       "      <td>21</td>\n",
       "      <td>67096</td>\n",
       "      <td>1271</td>\n",
       "      <td>2057</td>\n",
       "      <td>613</td>\n",
       "    </tr>\n",
       "    <tr>\n",
       "      <td>22</td>\n",
       "      <td>67555</td>\n",
       "      <td>1336</td>\n",
       "      <td>2113</td>\n",
       "      <td>615</td>\n",
       "    </tr>\n",
       "    <tr>\n",
       "      <td>23</td>\n",
       "      <td>52663</td>\n",
       "      <td>1213</td>\n",
       "      <td>1766</td>\n",
       "      <td>438</td>\n",
       "    </tr>\n",
       "  </tbody>\n",
       "</table>\n",
       "</div>"
      ],
      "text/plain": [
       "         点击    收藏  加入购物车   购买\n",
       "hour                         \n",
       "0     33078   747    917  346\n",
       "1     17436   447    424  126\n",
       "2      9511   224    242   58\n",
       "3      6238   125    158   31\n",
       "4      4733   126    123   24\n",
       "5      5498   140    149   25\n",
       "6      9699   235    260   52\n",
       "7     17581   370    458  105\n",
       "8     23797   487    697  247\n",
       "9     29886   694    836  374\n",
       "10    34007   743   1130  456\n",
       "11    32258   745    995  467\n",
       "12    32726   670    957  460\n",
       "13    36709   793   1100  467\n",
       "14    36357   761   1116  452\n",
       "15    36760   831   1201  459\n",
       "16    35434   730   1051  459\n",
       "17    31154   622    954  339\n",
       "18    33685   691    985  342\n",
       "19    44797   930   1190  394\n",
       "20    57728  1082   1631  498\n",
       "21    67096  1271   2057  613\n",
       "22    67555  1336   2113  615\n",
       "23    52663  1213   1766  438"
      ]
     },
     "execution_count": 103,
     "metadata": {},
     "output_type": "execute_result"
    }
   ],
   "source": [
    "pv_detail.columns = ['点击','收藏','加入购物车','购买']\n",
    "pv_detail"
   ]
  },
  {
   "cell_type": "code",
   "execution_count": 104,
   "metadata": {},
   "outputs": [
    {
     "data": {
      "image/png": "[encoded data removed]",
      "text/plain": [
       "<Figure size 1152x648 with 1 Axes>"
      ]
     },
     "metadata": {},
     "output_type": "display_data"
    }
   ],
   "source": [
    "plt.figure(figsize=(16,9))\n",
    "sns.lineplot(data = pv_detail)\n",
    "plt.show()"
   ]
  },
  {
   "cell_type": "code",
   "execution_count": 105,
   "metadata": {},
   "outputs": [
    {
     "data": {
      "image/png": "[encoded data removed]",
      "text/plain": [
       "<Figure size 1152x648 with 1 Axes>"
      ]
     },
     "metadata": {},
     "output_type": "display_data"
    }
   ],
   "source": [
    "# 剔除点击行为\n",
    "plt.figure(figsize=(16,9))\n",
    "sns.lineplot(data = pv_detail.iloc[:,1:])\n",
    "plt.show()"
   ]
  },
  {
   "cell_type": "code",
   "execution_count": 107,
   "metadata": {},
   "outputs": [],
   "source": [
    "data_user_buy = data_user[data_user.behavior_type == '4'].groupby('user_id').size()"
   ]
  },
  {
   "cell_type": "code",
   "execution_count": 108,
   "metadata": {},
   "outputs": [
    {
     "data": {
      "text/plain": [
       "user_id\n",
       "100012968    2\n",
       "100024529    2\n",
       "100027681    4\n",
       "100035725    1\n",
       "100067745    2\n",
       "dtype: int64"
      ]
     },
     "execution_count": 108,
     "metadata": {},
     "output_type": "execute_result"
    }
   ],
   "source": [
    "data_user_buy.head()"
   ]
  },
  {
   "cell_type": "code",
   "execution_count": 109,
   "metadata": {},
   "outputs": [
    {
     "data": {
      "text/plain": [
       "count    3326.000000\n",
       "mean        2.359290\n",
       "std         2.614917\n",
       "min         1.000000\n",
       "25%         1.000000\n",
       "50%         2.000000\n",
       "75%         3.000000\n",
       "max        82.000000\n",
       "dtype: float64"
      ]
     },
     "execution_count": 109,
     "metadata": {},
     "output_type": "execute_result"
    }
   ],
   "source": [
    "data_user_buy.describe()"
   ]
  },
  {
   "cell_type": "code",
   "execution_count": 111,
   "metadata": {},
   "outputs": [
    {
     "data": {
      "image/png": "[encoded data removed]",
      "text/plain": [
       "<Figure size 432x288 with 1 Axes>"
      ]
     },
     "metadata": {},
     "output_type": "display_data"
    }
   ],
   "source": [
    "plt.hist(x=data_user_buy,bins=30)\n",
    "plt.show()"
   ]
  },
  {
   "cell_type": "code",
   "execution_count": 121,
   "metadata": {},
   "outputs": [],
   "source": [
    "# 不同'date'，不同的'user_id'的购买的次数\n",
    "data_user_buy1 = data_user[data_user.behavior_type=='4'].groupby(['date','user_id'])\n",
    "data_user_buy1 = data_user_buy1.count()['behavior_type'].reset_index().rename(columns={'behavior_type':'total'})"
   ]
  },
  {
   "cell_type": "code",
   "execution_count": 122,
   "metadata": {},
   "outputs": [
    {
     "data": {
      "text/html": [
       "<div>\n",
       "<style scoped>\n",
       "    .dataframe tbody tr th:only-of-type {\n",
       "        vertical-align: middle;\n",
       "    }\n",
       "\n",
       "    .dataframe tbody tr th {\n",
       "        vertical-align: top;\n",
       "    }\n",
       "\n",
       "    .dataframe thead th {\n",
       "        text-align: right;\n",
       "    }\n",
       "</style>\n",
       "<table border=\"1\" class=\"dataframe\">\n",
       "  <thead>\n",
       "    <tr style=\"text-align: right;\">\n",
       "      <th></th>\n",
       "      <th>date</th>\n",
       "      <th>user_id</th>\n",
       "      <th>total</th>\n",
       "    </tr>\n",
       "  </thead>\n",
       "  <tbody>\n",
       "    <tr>\n",
       "      <td>0</td>\n",
       "      <td>2014-11-18</td>\n",
       "      <td>100024529</td>\n",
       "      <td>1</td>\n",
       "    </tr>\n",
       "    <tr>\n",
       "      <td>1</td>\n",
       "      <td>2014-11-18</td>\n",
       "      <td>100128093</td>\n",
       "      <td>1</td>\n",
       "    </tr>\n",
       "    <tr>\n",
       "      <td>2</td>\n",
       "      <td>2014-11-18</td>\n",
       "      <td>101538639</td>\n",
       "      <td>4</td>\n",
       "    </tr>\n",
       "    <tr>\n",
       "      <td>3</td>\n",
       "      <td>2014-11-18</td>\n",
       "      <td>102014015</td>\n",
       "      <td>1</td>\n",
       "    </tr>\n",
       "    <tr>\n",
       "      <td>4</td>\n",
       "      <td>2014-11-18</td>\n",
       "      <td>103962421</td>\n",
       "      <td>1</td>\n",
       "    </tr>\n",
       "    <tr>\n",
       "      <td>...</td>\n",
       "      <td>...</td>\n",
       "      <td>...</td>\n",
       "      <td>...</td>\n",
       "    </tr>\n",
       "    <tr>\n",
       "      <td>6376</td>\n",
       "      <td>2014-12-18</td>\n",
       "      <td>98607707</td>\n",
       "      <td>1</td>\n",
       "    </tr>\n",
       "    <tr>\n",
       "      <td>6377</td>\n",
       "      <td>2014-12-18</td>\n",
       "      <td>99418963</td>\n",
       "      <td>1</td>\n",
       "    </tr>\n",
       "    <tr>\n",
       "      <td>6378</td>\n",
       "      <td>2014-12-18</td>\n",
       "      <td>99674599</td>\n",
       "      <td>1</td>\n",
       "    </tr>\n",
       "    <tr>\n",
       "      <td>6379</td>\n",
       "      <td>2014-12-18</td>\n",
       "      <td>99785045</td>\n",
       "      <td>1</td>\n",
       "    </tr>\n",
       "    <tr>\n",
       "      <td>6380</td>\n",
       "      <td>2014-12-18</td>\n",
       "      <td>99796276</td>\n",
       "      <td>2</td>\n",
       "    </tr>\n",
       "  </tbody>\n",
       "</table>\n",
       "<p>6381 rows × 3 columns</p>\n",
       "</div>"
      ],
      "text/plain": [
       "           date    user_id  total\n",
       "0    2014-11-18  100024529      1\n",
       "1    2014-11-18  100128093      1\n",
       "2    2014-11-18  101538639      4\n",
       "3    2014-11-18  102014015      1\n",
       "4    2014-11-18  103962421      1\n",
       "...         ...        ...    ...\n",
       "6376 2014-12-18   98607707      1\n",
       "6377 2014-12-18   99418963      1\n",
       "6378 2014-12-18   99674599      1\n",
       "6379 2014-12-18   99785045      1\n",
       "6380 2014-12-18   99796276      2\n",
       "\n",
       "[6381 rows x 3 columns]"
      ]
     },
     "execution_count": 122,
     "metadata": {},
     "output_type": "execute_result"
    }
   ],
   "source": [
    "data_user_buy1"
   ]
  },
  {
   "cell_type": "code",
   "execution_count": 123,
   "metadata": {},
   "outputs": [
    {
     "data": {
      "text/plain": [
       "date\n",
       "2014-11-18    1.232432\n",
       "2014-11-19    1.241206\n",
       "2014-11-20    1.262857\n",
       "2014-11-21    1.192308\n",
       "2014-11-22    1.314286\n",
       "2014-11-23    1.247191\n",
       "2014-11-24    1.209677\n",
       "2014-11-25    1.244565\n",
       "2014-11-26    1.263804\n",
       "2014-11-27    1.207071\n",
       "2014-11-28    1.241573\n",
       "2014-11-29    1.236364\n",
       "2014-11-30    1.133005\n",
       "2014-12-01    1.220183\n",
       "2014-12-02    1.170984\n",
       "2014-12-03    1.277512\n",
       "2014-12-04    1.205742\n",
       "2014-12-05    1.189189\n",
       "2014-12-06    1.208333\n",
       "2014-12-07    1.165829\n",
       "2014-12-08    1.200000\n",
       "2014-12-09    1.167568\n",
       "2014-12-10    1.150000\n",
       "2014-12-11    1.191860\n",
       "2014-12-12    1.400000\n",
       "2014-12-13    1.188482\n",
       "2014-12-14    1.169154\n",
       "2014-12-15    1.151899\n",
       "2014-12-16    1.195238\n",
       "2014-12-17    1.194737\n",
       "2014-12-18    1.200000\n",
       "Name: total, dtype: float64"
      ]
     },
     "execution_count": 123,
     "metadata": {},
     "output_type": "execute_result"
    }
   ],
   "source": [
    "# 每天的人均消费次数 = 每日消费总次数 / 每日消费人数\n",
    "data_user_buy2 = data_user_buy1.groupby('date').sum()['total'] / data_user_buy1.groupby('date').count()['total']\n",
    "data_user_buy2"
   ]
  },
  {
   "cell_type": "code",
   "execution_count": 125,
   "metadata": {},
   "outputs": [
    {
     "data": {
      "image/png": "[encoded data removed]",
      "text/plain": [
       "<Figure size 432x288 with 1 Axes>"
      ]
     },
     "metadata": {},
     "output_type": "display_data"
    }
   ],
   "source": [
    "data_user_buy2.plot()\n",
    "plt.show()"
   ]
  },
  {
   "cell_type": "code",
   "execution_count": 126,
   "metadata": {},
   "outputs": [
    {
     "data": {
      "text/plain": [
       "count    31.000000\n",
       "mean      1.215260\n",
       "std       0.053003\n",
       "min       1.133005\n",
       "25%       1.188835\n",
       "50%       1.205742\n",
       "75%       1.241390\n",
       "max       1.400000\n",
       "Name: total, dtype: float64"
      ]
     },
     "execution_count": 126,
     "metadata": {},
     "output_type": "execute_result"
    }
   ],
   "source": [
    "data_user_buy2.describe()"
   ]
  },
  {
   "cell_type": "markdown",
   "metadata": {},
   "source": [
    "日ARPU : ARPU是衡量产答品的盈利能力，也是从某个方面衡量产品的发展活力。\n",
    "ARPU值=收入÷付费用户"
   ]
  },
  {
   "cell_type": "code",
   "execution_count": 163,
   "metadata": {},
   "outputs": [],
   "source": [
    "data_user['operation'] = 1\n",
    "data_user_buy3 = data_user.groupby(['date','user_id','behavior_type'])['operation'].count().reset_index()"
   ]
  },
  {
   "cell_type": "code",
   "execution_count": 164,
   "metadata": {},
   "outputs": [
    {
     "data": {
      "text/html": [
       "<div>\n",
       "<style scoped>\n",
       "    .dataframe tbody tr th:only-of-type {\n",
       "        vertical-align: middle;\n",
       "    }\n",
       "\n",
       "    .dataframe tbody tr th {\n",
       "        vertical-align: top;\n",
       "    }\n",
       "\n",
       "    .dataframe thead th {\n",
       "        text-align: right;\n",
       "    }\n",
       "</style>\n",
       "<table border=\"1\" class=\"dataframe\">\n",
       "  <thead>\n",
       "    <tr style=\"text-align: right;\">\n",
       "      <th></th>\n",
       "      <th>date</th>\n",
       "      <th>user_id</th>\n",
       "      <th>behavior_type</th>\n",
       "      <th>total</th>\n",
       "    </tr>\n",
       "  </thead>\n",
       "  <tbody>\n",
       "    <tr>\n",
       "      <td>0</td>\n",
       "      <td>2014-11-18</td>\n",
       "      <td>100024529</td>\n",
       "      <td>1</td>\n",
       "      <td>27</td>\n",
       "    </tr>\n",
       "    <tr>\n",
       "      <td>1</td>\n",
       "      <td>2014-11-18</td>\n",
       "      <td>100024529</td>\n",
       "      <td>3</td>\n",
       "      <td>1</td>\n",
       "    </tr>\n",
       "    <tr>\n",
       "      <td>2</td>\n",
       "      <td>2014-11-18</td>\n",
       "      <td>100024529</td>\n",
       "      <td>4</td>\n",
       "      <td>1</td>\n",
       "    </tr>\n",
       "    <tr>\n",
       "      <td>3</td>\n",
       "      <td>2014-11-18</td>\n",
       "      <td>100027681</td>\n",
       "      <td>1</td>\n",
       "      <td>8</td>\n",
       "    </tr>\n",
       "    <tr>\n",
       "      <td>4</td>\n",
       "      <td>2014-11-18</td>\n",
       "      <td>10004287</td>\n",
       "      <td>1</td>\n",
       "      <td>21</td>\n",
       "    </tr>\n",
       "    <tr>\n",
       "      <td>...</td>\n",
       "      <td>...</td>\n",
       "      <td>...</td>\n",
       "      <td>...</td>\n",
       "      <td>...</td>\n",
       "    </tr>\n",
       "    <tr>\n",
       "      <td>135518</td>\n",
       "      <td>2014-12-18</td>\n",
       "      <td>99796276</td>\n",
       "      <td>1</td>\n",
       "      <td>6</td>\n",
       "    </tr>\n",
       "    <tr>\n",
       "      <td>135519</td>\n",
       "      <td>2014-12-18</td>\n",
       "      <td>99796276</td>\n",
       "      <td>3</td>\n",
       "      <td>1</td>\n",
       "    </tr>\n",
       "    <tr>\n",
       "      <td>135520</td>\n",
       "      <td>2014-12-18</td>\n",
       "      <td>99796276</td>\n",
       "      <td>4</td>\n",
       "      <td>2</td>\n",
       "    </tr>\n",
       "    <tr>\n",
       "      <td>135521</td>\n",
       "      <td>2014-12-18</td>\n",
       "      <td>9996155</td>\n",
       "      <td>1</td>\n",
       "      <td>8</td>\n",
       "    </tr>\n",
       "    <tr>\n",
       "      <td>135522</td>\n",
       "      <td>2014-12-18</td>\n",
       "      <td>99989881</td>\n",
       "      <td>1</td>\n",
       "      <td>1</td>\n",
       "    </tr>\n",
       "  </tbody>\n",
       "</table>\n",
       "<p>135523 rows × 4 columns</p>\n",
       "</div>"
      ],
      "text/plain": [
       "             date    user_id behavior_type  total\n",
       "0      2014-11-18  100024529             1     27\n",
       "1      2014-11-18  100024529             3      1\n",
       "2      2014-11-18  100024529             4      1\n",
       "3      2014-11-18  100027681             1      8\n",
       "4      2014-11-18   10004287             1     21\n",
       "...           ...        ...           ...    ...\n",
       "135518 2014-12-18   99796276             1      6\n",
       "135519 2014-12-18   99796276             3      1\n",
       "135520 2014-12-18   99796276             4      2\n",
       "135521 2014-12-18    9996155             1      8\n",
       "135522 2014-12-18   99989881             1      1\n",
       "\n",
       "[135523 rows x 4 columns]"
      ]
     },
     "execution_count": 164,
     "metadata": {},
     "output_type": "execute_result"
    }
   ],
   "source": [
    "data_user_buy3.rename(columns={'operation':'total'},inplace=True)\n",
    "data_user_buy3"
   ]
  },
  {
   "cell_type": "code",
   "execution_count": 138,
   "metadata": {},
   "outputs": [
    {
     "data": {
      "text/plain": [
       "date\n",
       "2014-11-18    0.069385\n",
       "2014-11-19    0.075581\n",
       "2014-11-20    0.067051\n",
       "2014-11-21    0.058089\n",
       "2014-11-22    0.072854\n",
       "2014-11-23    0.067828\n",
       "2014-11-24    0.067004\n",
       "2014-11-25    0.069690\n",
       "2014-11-26    0.063074\n",
       "2014-11-27    0.073245\n",
       "2014-11-28    0.070270\n",
       "2014-11-29    0.063080\n",
       "2014-11-30    0.067508\n",
       "2014-12-01    0.078097\n",
       "2014-12-02    0.066024\n",
       "2014-12-03    0.076570\n",
       "2014-12-04    0.073684\n",
       "2014-12-05    0.066586\n",
       "2014-12-06    0.068884\n",
       "2014-12-07    0.068135\n",
       "2014-12-08    0.057659\n",
       "2014-12-09    0.063269\n",
       "2014-12-10    0.058974\n",
       "2014-12-11    0.054406\n",
       "2014-12-12    0.232478\n",
       "2014-12-13    0.064544\n",
       "2014-12-14    0.067626\n",
       "2014-12-15    0.076772\n",
       "2014-12-16    0.071408\n",
       "2014-12-17    0.065626\n",
       "2014-12-18    0.062259\n",
       "dtype: float64"
      ]
     },
     "execution_count": 138,
     "metadata": {},
     "output_type": "execute_result"
    }
   ],
   "source": [
    "data_user_buy3.groupby('date').apply(lambda x: x[x.behavior_type=='4'].total.sum()/len(x.user_id.unique()))"
   ]
  },
  {
   "cell_type": "code",
   "execution_count": 142,
   "metadata": {},
   "outputs": [
    {
     "data": {
      "text/plain": [
       "date\n",
       "2014-11-18    0.056299\n",
       "2014-11-19    0.060894\n",
       "2014-11-20    0.053095\n",
       "2014-11-21    0.048720\n",
       "2014-11-22    0.055432\n",
       "2014-11-23    0.054384\n",
       "2014-11-24    0.055390\n",
       "2014-11-25    0.055995\n",
       "2014-11-26    0.049908\n",
       "2014-11-27    0.060680\n",
       "2014-11-28    0.056598\n",
       "2014-11-29    0.051020\n",
       "2014-11-30    0.059583\n",
       "2014-12-01    0.064005\n",
       "2014-12-02    0.056383\n",
       "2014-12-03    0.059937\n",
       "2014-12-04    0.061111\n",
       "2014-12-05    0.055993\n",
       "2014-12-06    0.057007\n",
       "2014-12-07    0.058443\n",
       "2014-12-08    0.048049\n",
       "2014-12-09    0.054189\n",
       "2014-12-10    0.051282\n",
       "2014-12-11    0.045648\n",
       "2014-12-12    0.166056\n",
       "2014-12-13    0.054308\n",
       "2014-12-14    0.057842\n",
       "2014-12-15    0.066648\n",
       "2014-12-16    0.059744\n",
       "2014-12-17    0.054929\n",
       "2014-12-18    0.051883\n",
       "dtype: float64"
      ]
     },
     "execution_count": 142,
     "metadata": {},
     "output_type": "execute_result"
    }
   ],
   "source": [
    "# 付费率\n",
    "# 消费次数 / 活跃客户数\n",
    "b = data_user_buy3.groupby('date').apply(lambda x: x[x.behavior_type=='4'].total.count()/len(x.user_id.unique()))\n",
    "b"
   ]
  },
  {
   "cell_type": "code",
   "execution_count": 144,
   "metadata": {},
   "outputs": [
    {
     "data": {
      "image/png": "[encoded data removed]",
      "text/plain": [
       "<Figure size 432x288 with 1 Axes>"
      ]
     },
     "metadata": {},
     "output_type": "display_data"
    }
   ],
   "source": [
    "b.plot()\n",
    "plt.show()"
   ]
  },
  {
   "cell_type": "code",
   "execution_count": 171,
   "metadata": {},
   "outputs": [
    {
     "data": {
      "text/plain": [
       "<pandas.core.groupby.generic.DataFrameGroupBy object at 0x0000023EB9341F88>"
      ]
     },
     "execution_count": 171,
     "metadata": {},
     "output_type": "execute_result"
    }
   ],
   "source": [
    "# 同一时间段内\n",
    "data_user_buy4 = data_user[data_user.behavior_type=='4'].groupby(['user_id','date','hour'])\n",
    "data_user_buy4"
   ]
  },
  {
   "cell_type": "code",
   "execution_count": 178,
   "metadata": {},
   "outputs": [
    {
     "data": {
      "text/plain": [
       "user_id    date        hour\n",
       "100012968  2014-11-22  0       1\n",
       "           2014-11-25  21      1\n",
       "100024529  2014-11-18  8       1\n",
       "           2014-11-19  1       1\n",
       "100027681  2014-11-22  10      3\n",
       "                              ..\n",
       "99796276   2014-12-18  19      2\n",
       "99851929   2014-11-29  19      1\n",
       "99900937   2014-12-06  14      1\n",
       "           2014-12-17  14      1\n",
       "99989881   2014-12-04  22      1\n",
       "Name: operation, Length: 6855, dtype: int64"
      ]
     },
     "execution_count": 178,
     "metadata": {},
     "output_type": "execute_result"
    }
   ],
   "source": [
    "c = data_user_buy4['operation'].sum()\n",
    "c"
   ]
  },
  {
   "cell_type": "code",
   "execution_count": 177,
   "metadata": {},
   "outputs": [
    {
     "data": {
      "image/png": "[encoded data removed]",
      "text/plain": [
       "<Figure size 432x288 with 1 Axes>"
      ]
     },
     "metadata": {},
     "output_type": "display_data"
    }
   ],
   "source": [
    "sns.distplot(c)\n",
    "plt.show()"
   ]
  },
  {
   "cell_type": "markdown",
   "metadata": {},
   "source": [
    "复购行为分析\n",
    "复购率 复购行为用户数 / 购买行为用户数"
   ]
  },
  {
   "cell_type": "code",
   "execution_count": 180,
   "metadata": {},
   "outputs": [
    {
     "data": {
      "text/plain": [
       "user_id\n",
       "100012968    2\n",
       "100024529    2\n",
       "100027681    2\n",
       "100035725    1\n",
       "100067745    2\n",
       "            ..\n",
       "99796192     1\n",
       "99796276     2\n",
       "99851929     1\n",
       "99900937     2\n",
       "99989881     1\n",
       "Name: date, Length: 3326, dtype: int64"
      ]
     },
     "execution_count": 180,
     "metadata": {},
     "output_type": "execute_result"
    }
   ],
   "source": [
    "data_rebuy = data_user[data_user.behavior_type=='4'].groupby('user_id')['date'].apply(lambda x:len(x.unique()))\n",
    "data_rebuy"
   ]
  },
  {
   "cell_type": "code",
   "execution_count": 181,
   "metadata": {},
   "outputs": [
    {
     "data": {
      "text/plain": [
       "0.46692723992784124"
      ]
     },
     "execution_count": 181,
     "metadata": {},
     "output_type": "execute_result"
    }
   ],
   "source": [
    "data_rebuy[data_rebuy>=2].count() / data_rebuy.count()"
   ]
  },
  {
   "cell_type": "code",
   "execution_count": 192,
   "metadata": {},
   "outputs": [
    {
     "data": {
      "text/plain": [
       "user_id          \n",
       "100012968  505602   2014-11-22\n",
       "           505674   2014-11-25\n",
       "100024529  673618   2014-11-18\n",
       "           673642   2014-11-19\n",
       "100027681  476170   2014-11-22\n",
       "                       ...    \n",
       "99796276   765071   2014-12-18\n",
       "99851929   107252   2014-11-29\n",
       "99900937   463252   2014-12-06\n",
       "           462932   2014-12-17\n",
       "99989881   426775   2014-12-04\n",
       "Name: date, Length: 7847, dtype: datetime64[ns]"
      ]
     },
     "execution_count": 192,
     "metadata": {},
     "output_type": "execute_result"
    }
   ],
   "source": [
    "data_day_buy = data_user[data_user.behavior_type=='4'].groupby('user_id').date.apply(lambda x: x.sort_values())\n",
    "data_day_buy"
   ]
  },
  {
   "cell_type": "code",
   "execution_count": 196,
   "metadata": {},
   "outputs": [
    {
     "data": {
      "text/plain": [
       "user_id          \n",
       "100012968  505674    3 days\n",
       "100024529  673642    1 days\n",
       "100027681  476186    0 days\n",
       "           476242    0 days\n",
       "           476154    6 days\n",
       "                      ...  \n",
       "99674599   131263    8 days\n",
       "           192391    6 days\n",
       "99796276   764882    3 days\n",
       "           765071    0 days\n",
       "99900937   462932   11 days\n",
       "Name: date, Length: 4521, dtype: timedelta64[ns]"
      ]
     },
     "execution_count": 196,
     "metadata": {},
     "output_type": "execute_result"
    }
   ],
   "source": [
    "data_day_buy = data_user[data_user.behavior_type=='4'].groupby('user_id').date.apply(lambda x: x.sort_values().diff(1).dropna())\n",
    "data_day_buy"
   ]
  },
  {
   "cell_type": "code",
   "execution_count": 199,
   "metadata": {},
   "outputs": [
    {
     "data": {
      "text/plain": [
       "user_id          \n",
       "100012968  505674     3\n",
       "100024529  673642     1\n",
       "100027681  476186     0\n",
       "           476242     0\n",
       "           476154     6\n",
       "                     ..\n",
       "99674599   131263     8\n",
       "           192391     6\n",
       "99796276   764882     3\n",
       "           765071     0\n",
       "99900937   462932    11\n",
       "Name: date, Length: 4521, dtype: int64"
      ]
     },
     "execution_count": 199,
     "metadata": {},
     "output_type": "execute_result"
    }
   ],
   "source": [
    "data_day_buy.map(lambda x:x.days)"
   ]
  },
  {
   "cell_type": "markdown",
   "metadata": {},
   "source": [
    "漏斗模型分析"
   ]
  },
  {
   "cell_type": "code",
   "execution_count": 202,
   "metadata": {},
   "outputs": [
    {
     "data": {
      "text/plain": [
       "behavior_type\n",
       "1    756386\n",
       "2     16013\n",
       "3     22510\n",
       "4      7847\n",
       "dtype: int64"
      ]
     },
     "execution_count": 202,
     "metadata": {},
     "output_type": "execute_result"
    }
   ],
   "source": [
    "data_user_count = data_user.groupby('behavior_type').size()\n",
    "data_user_count"
   ]
  },
  {
   "cell_type": "code",
   "execution_count": 204,
   "metadata": {},
   "outputs": [
    {
     "data": {
      "text/plain": [
       "802756"
      ]
     },
     "execution_count": 204,
     "metadata": {},
     "output_type": "execute_result"
    }
   ],
   "source": [
    "pv_all = data_user['user_id'].count()\n",
    "pv_all"
   ]
  },
  {
   "cell_type": "code",
   "execution_count": 205,
   "metadata": {},
   "outputs": [
    {
     "data": {
      "text/plain": [
       "0.057763504726218176"
      ]
     },
     "execution_count": 205,
     "metadata": {},
     "output_type": "execute_result"
    }
   ],
   "source": [
    "# 流失率\n",
    "(pv_all-data_user_count[0])/pv_all"
   ]
  },
  {
   "cell_type": "code",
   "execution_count": 206,
   "metadata": {},
   "outputs": [
    {
     "data": {
      "text/plain": [
       "0.9702400626135333"
      ]
     },
     "execution_count": 206,
     "metadata": {},
     "output_type": "execute_result"
    }
   ],
   "source": [
    "# 加入购物车的数量的流失率\n",
    "(data_user_count[0]-data_user_count[2])/data_user_count[0]"
   ]
  },
  {
   "cell_type": "code",
   "execution_count": 207,
   "metadata": {},
   "outputs": [
    {
     "data": {
      "text/plain": [
       "0.28862727676588185"
      ]
     },
     "execution_count": 207,
     "metadata": {},
     "output_type": "execute_result"
    }
   ],
   "source": [
    "# 加入购物车 到 收藏\n",
    "(data_user_count[2]-data_user_count[1])/data_user_count[2]"
   ]
  },
  {
   "cell_type": "code",
   "execution_count": 208,
   "metadata": {},
   "outputs": [
    {
     "data": {
      "text/plain": [
       "0.509960656966215"
      ]
     },
     "execution_count": 208,
     "metadata": {},
     "output_type": "execute_result"
    }
   ],
   "source": [
    "# 从收藏到购买\n",
    "(data_user_count[1]-data_user_count[3])/data_user_count[1]"
   ]
  },
  {
   "cell_type": "markdown",
   "metadata": {},
   "source": [
    "### 用户价值的RFM的分析"
   ]
  },
  {
   "cell_type": "code",
   "execution_count": 293,
   "metadata": {},
   "outputs": [
    {
     "ename": "SyntaxError",
     "evalue": "invalid syntax (<ipython-input-293-4a4a2b92d388>, line 6)",
     "output_type": "error",
     "traceback": [
      "\u001b[1;36m  File \u001b[1;32m\"<ipython-input-293-4a4a2b92d388>\"\u001b[1;36m, line \u001b[1;32m6\u001b[0m\n\u001b[1;33m    datetime(2014.12.10)\u001b[0m\n\u001b[1;37m                      ^\u001b[0m\n\u001b[1;31mSyntaxError\u001b[0m\u001b[1;31m:\u001b[0m invalid syntax\n"
     ]
    }
   ],
   "source": [
    "# from datetime import datetime\n",
    "# R_group = data_user[data_user['behavior_type']=='4'].groupby('user_id')['date']\n",
    "# # R = R_group.apply(lambda x: x.iloc[-1])\n",
    "# R = R_group.apply(lambda x: x.iloc[-1] )\n",
    "# R\n",
    "datetime(2014.12.10)"
   ]
  },
  {
   "cell_type": "code",
   "execution_count": 247,
   "metadata": {},
   "outputs": [],
   "source": [
    "\n",
    "# R = data_user[data_user['behavior_type']=='4'].groupby('user_id')['date'].apply(lambda x: datetime(data_user['date'].max())-x.max())\n",
    "# R"
   ]
  },
  {
   "cell_type": "code",
   "execution_count": 252,
   "metadata": {},
   "outputs": [
    {
     "data": {
      "text/plain": [
       "user_id\n",
       "100012968    2\n",
       "100024529    2\n",
       "100027681    4\n",
       "100035725    1\n",
       "100067745    2\n",
       "            ..\n",
       "99796192     1\n",
       "99796276     3\n",
       "99851929     1\n",
       "99900937     2\n",
       "99989881     1\n",
       "Name: date, Length: 3326, dtype: int64"
      ]
     },
     "execution_count": 252,
     "metadata": {},
     "output_type": "execute_result"
    }
   ],
   "source": [
    "F = data_user[data_user['behavior_type']=='4'].groupby('user_id')['date'].count()\n",
    "F"
   ]
  },
  {
   "cell_type": "code",
   "execution_count": 253,
   "metadata": {},
   "outputs": [
    {
     "data": {
      "text/html": [
       "<div>\n",
       "<style scoped>\n",
       "    .dataframe tbody tr th:only-of-type {\n",
       "        vertical-align: middle;\n",
       "    }\n",
       "\n",
       "    .dataframe tbody tr th {\n",
       "        vertical-align: top;\n",
       "    }\n",
       "\n",
       "    .dataframe thead th {\n",
       "        text-align: right;\n",
       "    }\n",
       "</style>\n",
       "<table border=\"1\" class=\"dataframe\">\n",
       "  <thead>\n",
       "    <tr style=\"text-align: right;\">\n",
       "      <th></th>\n",
       "      <th>user_id</th>\n",
       "      <th>freq</th>\n",
       "    </tr>\n",
       "  </thead>\n",
       "  <tbody>\n",
       "    <tr>\n",
       "      <td>0</td>\n",
       "      <td>100012968</td>\n",
       "      <td>2</td>\n",
       "    </tr>\n",
       "    <tr>\n",
       "      <td>1</td>\n",
       "      <td>100024529</td>\n",
       "      <td>2</td>\n",
       "    </tr>\n",
       "    <tr>\n",
       "      <td>2</td>\n",
       "      <td>100027681</td>\n",
       "      <td>4</td>\n",
       "    </tr>\n",
       "    <tr>\n",
       "      <td>3</td>\n",
       "      <td>100035725</td>\n",
       "      <td>1</td>\n",
       "    </tr>\n",
       "    <tr>\n",
       "      <td>4</td>\n",
       "      <td>100067745</td>\n",
       "      <td>2</td>\n",
       "    </tr>\n",
       "    <tr>\n",
       "      <td>...</td>\n",
       "      <td>...</td>\n",
       "      <td>...</td>\n",
       "    </tr>\n",
       "    <tr>\n",
       "      <td>3321</td>\n",
       "      <td>99796192</td>\n",
       "      <td>1</td>\n",
       "    </tr>\n",
       "    <tr>\n",
       "      <td>3322</td>\n",
       "      <td>99796276</td>\n",
       "      <td>3</td>\n",
       "    </tr>\n",
       "    <tr>\n",
       "      <td>3323</td>\n",
       "      <td>99851929</td>\n",
       "      <td>1</td>\n",
       "    </tr>\n",
       "    <tr>\n",
       "      <td>3324</td>\n",
       "      <td>99900937</td>\n",
       "      <td>2</td>\n",
       "    </tr>\n",
       "    <tr>\n",
       "      <td>3325</td>\n",
       "      <td>99989881</td>\n",
       "      <td>1</td>\n",
       "    </tr>\n",
       "  </tbody>\n",
       "</table>\n",
       "<p>3326 rows × 2 columns</p>\n",
       "</div>"
      ],
      "text/plain": [
       "        user_id  freq\n",
       "0     100012968     2\n",
       "1     100024529     2\n",
       "2     100027681     4\n",
       "3     100035725     1\n",
       "4     100067745     2\n",
       "...         ...   ...\n",
       "3321   99796192     1\n",
       "3322   99796276     3\n",
       "3323   99851929     1\n",
       "3324   99900937     2\n",
       "3325   99989881     1\n",
       "\n",
       "[3326 rows x 2 columns]"
      ]
     },
     "execution_count": 253,
     "metadata": {},
     "output_type": "execute_result"
    }
   ],
   "source": [
    "F.reset_index().rename(columns={'date':'freq'})"
   ]
  },
  {
   "cell_type": "code",
   "execution_count": null,
   "metadata": {},
   "outputs": [],
   "source": [
    "rfm = pd.merge(F,M left_on='user_id',right_on='user_id')"
   ]
  },
  {
   "cell_type": "code",
   "execution_count": null,
   "metadata": {},
   "outputs": [],
   "source": [
    "rfm['R'] = pd.qcut(rfm.R,2,labels=['2','1'])\n",
    "rfm['F'] = pd.qcut(rfm.F,2,labels=['1','2'])"
   ]
  },
  {
   "cell_type": "code",
   "execution_count": null,
   "metadata": {},
   "outputs": [],
   "source": [
    "rfm['rfm'] = rfm['R'].str.cat(rfm['F'])"
   ]
  }
 ],
 "metadata": {
  "kernelspec": {
   "display_name": "Python 3",
   "language": "python",
   "name": "python3"
  },
  "language_info": {
   "codemirror_mode": {
    "name": "ipython",
    "version": 3
   },
   "file_extension": ".py",
   "mimetype": "text/x-python",
   "name": "python",
   "nbconvert_exporter": "python",
   "pygments_lexer": "ipython3",
   "version": "3.7.4"
  }
 },
 "nbformat": 4,
 "nbformat_minor": 2
}
